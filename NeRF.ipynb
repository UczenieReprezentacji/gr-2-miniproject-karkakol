{
 "cells": [
  {
   "cell_type": "markdown",
   "id": "691613195ed85d4e",
   "metadata": {
    "collapsed": false
   },
   "source": [
    "## Wstęp do NeRF\n",
    "W tym notebooku przedstawimy czym jest NeRF, do czego służy oraz jakie techniki są używane aby usprawnić jego działanie.\n",
    "\n",
    "### Spis treści\n",
    "1. [Czym jest NeRF?](#Czym-jest-NeRF?)\n",
    "2. [Przetwarzanie danych przez MLP](#Przetwarzanie-danych-przez-MLP)\n",
    "3. [Czym jest input dla NeRF?](#Czym-jest-input-dla-NeRF?)\n",
    "4. [Renderowanie obrazu](#Renderowanie-obrazu)\n",
    "\n",
    "\n",
    "#### Czym jest NeRF?\n",
    "\n",
    "NeRF to akronim od Neural Radiance Fields for View Synthesis, co można przetłumaczyć jako Neuronowe Pola Radiacyjne do syntezy widoków.\n",
    "\n",
    "Jest to technika wykorzystująca głębokie sieci neuronowe do generowania realistycznych renderów scen trójwymiarowych. Głównym celem NeRF jest modelowanie radiance field, czyli funkcji reprezentującej radiancję światła w trójwymiarowej przestrzeni. Prościej mówiąc, NeRF jest w stanie wygenerować fotorealistyczne obrazy scen 3D, na podstawie danych treningowych z rzeczywistych scen. \n",
    "\n",
    "Tradycyjne metody renderowania 3D, takie jak ray tracing czy rasterization, mają swoje ograniczenia w generowaniu szczegółowych i fotorealistycznych obrazów. NeRF stanowi innowacyjne podejście, umożliwiając renderowanie scen 3D poprzez uczenie głębokich sieci neuronowych na podstawie danych treningowych z rzeczywistych scen.\n",
    "\n",
    "<br>\n",
    "<br>\n",
    "<div style=\"display: flex; flex-direction: horizontal;\">\n",
    "    <img src=\"src/promienie_gestosc.png\" alt=\"NeRF\" width=\"1000\">\n",
    "</div>\n",
    "<div style=\"display: flex; flex-direction: horizontal;\">\n",
    "    <img src=\"https://uploads-ssl.webflow.com/51e0d73d83d06baa7a00000f/5e700ef6067b43821ed52768_pipeline_website-01-p-800.png\" alt=\"NeRF\" width=\"1000\" style=\"background-color:white;\">\n",
    "</div>\n",
    "<div style=\"display: flex; flex-direction: horizontal;\">\n",
    "    <img src=\"src/nerf_lego.gif\" width=\"1000\">\n",
    "</div>\n"
   ]
  },
  {
   "cell_type": "markdown",
   "source": [
    "### Dataset potrzebny do trenowania NeRF'a\n",
    "\n",
    "Dataset do trenowania modelu NeRF  składa się z obrazów oraz pozycji kamery w których te obrazy zostały utworzone. Takich zdjęć powinno być wykonanych dosyć dużo, w przeciwnym wypadku model nie nauczy sie poprawnie obiektu który ma reprezentować ( poniższe zdjęcie ilustruje przykład autorów pracy o NeRF'ie pokazujący wizualizacje 100 zdjęć na sferze dookoła perkusji )\n",
    "<br>\n",
    "<div style=\"display: flex; flex-direction: horizontal;\">\n",
    "    <img src=\"src/nerf_images.png\" width=\"2000\">\n",
    "</div>"
   ],
   "metadata": {
    "collapsed": false
   },
   "id": "379d286e21b32bf6"
  },
  {
   "cell_type": "markdown",
   "id": "72f8d0e7",
   "metadata": {},
   "source": [
    "### Przetwarzanie danych przez MLP\n",
    "\n",
    "Reprezentujemy ciągłą scenę jako funkcję wektorową o wartościach 5D, której dane wejściowe to współrzędne w przestrzeni 3D i kierunek widzenia, a wyjściem jest kolor i gęstość objętości w danym punkcie.\n",
    "\n",
    "Aby zbliżyć się do tej ciągłej reprezentacji sceny 5D, NeRF używa sieci neuronowej o nazwie Multi-Layer Perceptron (MLP) oznaczonej poniżej jako $F_\\Theta$.\n",
    "\n",
    "----\n",
    "Opis modelu NeRF:\n",
    "\n",
    "$$\\Large F_\\Theta: (x, d) → (c, σ) $$\n",
    "gdzie:\n",
    "\n",
    "$F_\\Theta$ - sieć neuronowa <br/>\n",
    "$x = (x, y, z)$ - współrzędne punktu w przestrzeni 3D <br/>\n",
    "$c = (r, g, b)$ - kolor emitowany w danym punkcie <br/>\n",
    "$d $ - wektor jednostkowy w trójwymiarowej przestrzenie kartezjańskiej wskazujący w którym kierunku będzie puszczany promień <br/>\n",
    "$\\sigma$ - gęstość objętości\n",
    "\n",
    "----\n",
    "\n",
    "\n",
    "Proces ten jest realizowany poprzez przekształcenie danych wejściowych za pomocą funkcji $\\gamma$ (w jaki sposób jest to realizowane jest w części o Fourier Features) i przekazanie ich do sieci neuronowej. Sieć neuronowa zawiera 8 warstw ukrytych, każda z 256 neuronami oraz aktywacją ReLU. Sieć na początku otrzymuje przetworzony wektor współrzednych (o wielkości 60), następnie w piątej warstwie dodawany jest ponownie ten wektor (żeby sieć dalej uwzględniała współrzędne punktu). W przedostatniej warstwie sieci zwracany jest gęstość objętości, a w celu uzyskania koloru emitowanego dodawany jest jeszcze przetworzony wektor kierunku widzenia (o wielkości 40). Architektura sieci neuronowej została przedstawiona poniżej.\n",
    "\n",
    "<div style=\"display: flex;\">\n",
    "<img src=\"src/mlp.png\" width=\"2000\" />\n",
    "</div>"
   ]
  },
  {
   "cell_type": "markdown",
   "id": "36b5355e",
   "metadata": {},
   "source": [
    "**Pytanie do publiczności**: Dlaczego wektory $x$ i $d$ są przetwarzane? Czy nie można było ich od razu przekazać do sieci neuronowej?\n",
    "\n",
    "### Czym jest input dla NeRF?\n",
    "Jako dataset otrzymujemy zbiór zdjęć z różnych perspektyw, ale sieć MLP potrzebuje danych w postaci $(x, d)$, gdzie wynikiem jest kolor i gęstość objętości w danym punkcie. Więc w jaki sposób możemy przekształcić zdjęcia z perspektywy na takie dane oraz jak trenować sieć neuronową? \n",
    "\n",
    "W celu przekształcenia zdjęć i pozycjami kamer na dane wejściowe dla sieci neuronowej, wykorzystujemy promienie (ang. rays). Promień to linia prosta łącząca kamerę z punktem na zdjęciu i przechodząca za nim. Z części promienia znajdującej się za punktem na zdjęciu, wybieramy równomiernie $n$ punktów, które są przetwarzane i przekazywane do sieci neuronowej. Otrzymujemy w ten sposób $n$ par $(x, d)$ dla każdego promienia, które są przekazywane do sieci neuronowej. Jako wyjście z MLP dostajemy $n$ kolorów i gęstości objętości, znamy również odlgełość każdego z tych punktów od kamery.\n",
    "<div style=\"display: flex; justify-content: center;\">\n",
    "<img src=\"src/mlp_io.png\" width=\"900\" />\n",
    "</div>\n"
   ]
  },
  {
   "cell_type": "markdown",
   "id": "bdc47f801f5eab66",
   "metadata": {
    "collapsed": false
   },
   "source": [
    "### Renderowanie obrazu\n",
    "Aby wygenerować obraz (mając też pozycję kamery), musimy wyznaczyć kolor dla każdego piksela. W tym celu dla każdego piksela wybieramy promień, który przechodzi przez ten piksel i przekazujemy go do sieci neuronowej. Sieć zwraca kolor i gęstość objętości dla wybranych punktów na promieniu. Kolejnym krokiem jest przekazanie tych danych do funkcji $C$, która zwraca kolor dla danego promienia.\n",
    "\n",
    "**Pytanie do publiczności**: Co robią poszczególne czynniki w poniższym wzorze na kolor?\n",
    "\n",
    "----\n",
    "Wyznanaczanie koloru dla promienia:\n",
    "\n",
    "$$ \\Large C(r) = \\int_{t_{n}}^{t_{f}} T(t) \\cdot \\sigma(\\textbf{r}(t)) \\cdot \\textbf{c}(\\textbf{r}(t), d)  dt $$\n",
    "$$ \\Large T(t) = \\exp \\left( - \\int_{t_{n}}^{t} \\sigma(\\textbf{r}(s)) ds \\right) $$\n",
    "$$ \\Large \\textbf{r}(t) = o + t \\cdot d $$\n",
    "\n",
    "\n",
    "$t_n$ - dolny zakres długości promienia <br>\n",
    "$t_f$ - górny zakres długości promienia <br>\n",
    "$r(t)$ - koniec wektora zaczepionego w punkcie o (czyli pozycja obserwatora) o zasiegu wektora t oraz kierunku wektora danym przez d\n",
    "\n",
    "----\n",
    "\n",
    "(można o tym wyżej wzorze myśleć jak o wartości oczekiwanej koloru biorąc pod uwage zakres długości promienia, koloru powierzchni przez które przechodzi promień oraz gestości obiektu przez który promień przechodzi)\n",
    "\n",
    "<br>\n",
    "<div style=\"display: flex; justify-content: center;\">\n",
    "<img src=\"src/promienie_gestosc.png\" width=\"600\" />\n",
    "</div>\n",
    "\n",
    "Rysunek poglądowy może pomóc zrozumieć jak gęstośc otoczenia i odległość promienia może wpływać na kolor oraz jak ten kolor potem używać do obliczania loss'u (g.t. - ground truth ;) \n",
    "\n",
    "Poniżej stworzyliśmy prostą implementację funkcji $C$ wzorując się [nerf_eval/utils_nerf.py](nerf_eval/utils_nerf.py) od linii 36."
   ]
  },
  {
   "cell_type": "code",
   "execution_count": 1,
   "id": "881ad129",
   "metadata": {
    "ExecuteTime": {
     "end_time": "2023-12-20T20:44:19.102762Z",
     "start_time": "2023-12-20T20:44:18.674173Z"
    }
   },
   "outputs": [],
   "source": [
    "import numpy as np\n",
    "import matplotlib.pyplot as plt\n",
    "from matplotlib.patches import Patch\n",
    "\n",
    "def raw2outputs_single_ray(raw, z_vals, ray_d):\n",
    "    def sigmoid(a):\n",
    "        return 1 / (1 + np.exp(-a))\n",
    "\n",
    "    def raw2alpha(raw, dists):\n",
    "        raw = np.maximum(raw, 0)\n",
    "        return 1.0 - np.exp(-raw * dists)\n",
    "\n",
    "    # Oblicz 'odległość' między każdym czasem integracji wzdłuż promienia.\n",
    "    dists = np.diff(z_vals)\n",
    "    dists = np.append(dists, 1e10)  # dodaj nieskończoność dla ostatniej odległości\n",
    "\n",
    "    # Pomnóż każdą odległość przez normę kierunku promienia, aby przeliczyć na rzeczywistą odległość.\n",
    "    dists *= np.linalg.norm(ray_d)\n",
    "\n",
    "    # Wyodrębnij RGB każdej pozycji próbki wzdłuż promienia.\n",
    "    rgb = sigmoid(raw[..., :3])  # [N_samples, 3]\n",
    "\n",
    "    # Przewiduj gęstość każdej próbki wzdłuż promienia.\n",
    "    alpha = raw2alpha(raw[..., 3], dists)  # [N_samples]\n",
    "\n",
    "    # Oblicz wagę dla RGB każdej próbki wzdłuż promienia.\n",
    "    weights = alpha * np.cumprod(1. - alpha + 1e-10)  # [N_samples]\n",
    "\n",
    "    # Oblicz ważony kolor każdej próbki wzdłuż promienia.\n",
    "    rgb_map = np.sum(weights[..., None] * rgb, axis=0)  # [3]\n",
    "\n",
    "    # Szacowana mapa głębokości to oczekiwana odległość.\n",
    "    depth_map = np.sum(weights * z_vals)\n",
    "\n",
    "    # Mapa dysparacji to odwrotność głębokości.\n",
    "    disp_map = 1. / np.maximum(1e-10, depth_map / np.sum(weights))\n",
    "\n",
    "    # Suma wag wzdłuż promienia.\n",
    "    acc_map = np.sum(weights)\n",
    "\n",
    "    return rgb_map, disp_map, acc_map, weights, depth_map\n",
    "\n",
    "def plot_sample_points(z_vals, raw, weights, rgb_map):\n",
    "    import matplotlib.pyplot as plt\n",
    "    from matplotlib.patches import Patch\n",
    "\n",
    "    # Wykreśl gęstości i kolory każdej próbki.\n",
    "    plt.figure(figsize=(10, 6))\n",
    "    plt.subplot(2, 1, 1)\n",
    "    plt.bar(z_vals, raw[..., 3], width=0.1, color=raw[..., :3])\n",
    "    plt.xlabel('Odległość od kamery')\n",
    "    plt.ylabel('Gęstość')\n",
    "    plt.title('Gęstość i kolor próbek wzdłuż promienia')\n",
    "\n",
    "    # Normalizuj rgb_map do zakresu [0, 1].\n",
    "    rgb_map = (rgb_map - np.min(rgb_map)) / (np.max(rgb_map) - np.min(rgb_map))\n",
    "\n",
    "    # Utwórz niestandardową legendę z przewidywanym kolorem.\n",
    "    legend_elements = [Patch(facecolor=rgb_map, edgecolor='r', label='Przewidywany kolor')]\n",
    "    plt.legend(handles=legend_elements, loc='upper right')\n",
    "\n",
    "    # Wykreśl wagi próbek.\n",
    "    plt.subplot(2, 1, 2)\n",
    "    plt.bar(z_vals, weights, width=0.1)\n",
    "    plt.xlabel('Odległość od kamery')\n",
    "    plt.ylabel('Waga')\n",
    "    plt.title('Wagi próbek wzdłuż promienia')\n",
    "\n",
    "    plt.tight_layout()\n",
    "    plt.show()\n",
    "\n",
    "    # Wydrukuj wyrenderowany kolor promienia.\n",
    "    print('Wyrenderowany kolor promienia:', rgb_map)"
   ]
  },
  {
   "cell_type": "code",
   "execution_count": 3,
   "id": "8d7a53cd",
   "metadata": {
    "ExecuteTime": {
     "end_time": "2023-12-20T20:44:38.132691Z",
     "start_time": "2023-12-20T20:44:38.031806Z"
    }
   },
   "outputs": [
    {
     "data": {
      "text/plain": "<Figure size 1000x600 with 2 Axes>",
      "image/png": "[encoded data removed]"
     },
     "metadata": {},
     "output_type": "display_data"
    },
    {
     "name": "stdout",
     "output_type": "stream",
     "text": [
      "Wyrenderowany kolor promienia: [1.         0.         0.79163364]\n"
     ]
    }
   ],
   "source": [
    "# Utwórz pojedynczy promień z 10 punktami próbkowania.\n",
    "N_samples = 10\n",
    "z_vals = np.linspace(0, 1, N_samples)  # Pozycje próbek wzdłuż promienia.\n",
    "ray_d = np.array([0, 0, 1])  # Kierunek promienia.\n",
    "\n",
    "# Utwórz losowe kolory i gęstości dla każdego punktu próbkowania.\n",
    "raw = np.random.rand(N_samples, 4)\n",
    "raw[..., 3] = raw[..., 3] * 3  # Przekształć gęstości do zakresu [0, 3].\n",
    "\n",
    "# Zdefiniuj dwa kolory.\n",
    "color1 = np.array([1, 0, 0])  # Czerwony.\n",
    "color2 = np.array([0, 0, 1])  # Niebieski.\n",
    "\n",
    "# Normalizuj z_vals do zakresu [0, 1].\n",
    "z_vals_normalized = (z_vals - np.min(z_vals)) / (np.max(z_vals) - np.min(z_vals))\n",
    "\n",
    "# Utwórz sinusoidalne mapowanie gradientu koloru na podstawie odległości.\n",
    "raw[..., :3] = color1[None, :] + (color2 - color1)[None, :] * np.sin(np.pi * z_vals_normalized)[:, None]\n",
    "\n",
    "# Wyrenderuj kolor promienia.\n",
    "rgb_map, disp_map, acc_map, weights, depth_map = raw2outputs_single_ray(raw, z_vals, ray_d)\n",
    "\n",
    "# Wykreśl punkty próbkowania.\n",
    "plot_sample_points(z_vals, raw, weights, rgb_map)"
   ]
  },
  {
   "cell_type": "markdown",
   "id": "a33e0e09",
   "metadata": {},
   "source": [
    "### Proces trenowania\n",
    "\n",
    "Trenowanie tej sieci można przedstawić w następujących krokach:\n",
    "\n",
    "1. Odpowienie przygotowanie danych. Bedziemy potrzebować wykonanych zdjęć wraz z pozcją kamery.\n",
    "2. W każdej iteracji jest losowany zestaw promieni dla których bedzie liczony kolor\n",
    "3. Dla każdego wylosowanego promienia jest obliczanych N wylosowanych próbek na całej jego długości\n",
    "4. Z wylosowanych próbek za pomocą renderowania objętości jest obliczany kolor\n",
    "5. Ostatnim krokiem jest obliczanie loss'u\n",
    "\n",
    "\n",
    "\n",
    "----\n",
    "Loss:\n",
    "\n",
    "$$ \\Large L =  \\sum_{r \\in R} \\Vert \\hat{C}(r) - C(r) \\Vert^2_2 $$\n",
    "\n",
    "gdzie:\n",
    "\n",
    "$R$ - zbiór promieni <br/>\n",
    "$\\hat{C}(r)$ - kolor wygenerowany przez sieć neuronową <br/>\n",
    "$C(r)$ - kolor oczekiwany <br/>\n",
    "\n",
    "----"
   ]
  },
  {
   "cell_type": "markdown",
   "id": "7dab194038ed27a5",
   "metadata": {
    "collapsed": false
   },
   "source": [
    "## Usprawnienie modelu\n",
    "\n",
    "#### Jedną z najwazniszych rzeczy jakie można zrobić to Fourier Feature\n",
    "\n",
    "Operowanie na suchych współrzednych x,y,z przynosi słabe rezultaty w kontekście szczegółów i kolorów na obrazku, autorzy pracy powołując sie na innych badaczy dokonują następującej transformacji:\n",
    "\n",
    "$$ \\Large \\gamma(p) = \\left[ \\cos(2^0 \\pi p), \\sin(2^0 \\pi p), \\cos(2^1 \\pi p), \\sin(2^1 \\pi p), \\dots, \\cos(2^{L-1} \\pi p), \\sin(2^{L-1} \\pi p) \\right] $$\n",
    "\n",
    "gdzie:\n",
    "\n",
    "$p = x * B$ <br>\n",
    "$B$ - macierz gausowska z rozkładu $N(\\mu, \\sigma^2)$"
   ]
  },
  {
   "cell_type": "markdown",
   "id": "29915756d4a1e7fb",
   "metadata": {
    "collapsed": false
   },
   "source": [
    "Poniższy przykład pokazuje jak może wygląda nauka z użyciem Fourier Feature i bez niego, gołym okiem widać na obrazku oraz na lossie różnice\n",
    "\n",
    "<div style=\"padding: 10px;\">\n",
    "<img src=\"src/lion_none_gauss_v1.gif\" width=\"2000\" />\n",
    "</div>\n",
    "\n",
    "Należy jednak uważać, ponieważ nieodpowiednie dobranie parametrów może doprowadzić do pogorszenia jakości zdjeć, tyczy sie to parametru L\n",
    "\n",
    "<div style=\"padding: 10px;\">\n",
    "<img src=\"src/test_sweep_1e-4_5000_more_low.gif\" width=\"2000\" />\n",
    "</div>"
   ]
  },
  {
   "cell_type": "markdown",
   "id": "908ac60b0d4acf3c",
   "metadata": {
    "collapsed": false
   },
   "source": [
    "## Rezultaty\n",
    "\n",
    "<div style=\"padding: 10px;\">\n",
    "<img src=\"src/res3.png\" width=\"2000\" />\n",
    "</div>\n",
    "\n",
    "<div style=\"padding: 10px;\">\n",
    "<img src=\"src/res2.png\" width=\"2000\" />\n",
    "</div>\n",
    "\n",
    "<div style=\"padding: 10px;\">\n",
    "<img src=\"src/res1.png\" width=\"2000\" />\n",
    "</div>\n"
   ]
  },
  {
   "cell_type": "markdown",
   "source": [
    "## Zalety NeRF:\n",
    "\n",
    "Realistyczne renderowanie: NeRF może tworzyć bardzo realistyczne obrazy 3D, które są trudne do odróżnienia od prawdziwych scen.\n",
    "\n",
    "Jednorazowe skanowanie: Wystarczy jednorazowo zeskanować scenę, a potem już możemy obracać i przybliżać obiekt z dowolnej perspektywy.\n",
    "\n",
    "Głębia i szczegóły: NeRF jest w stanie uwzględnić złożone efekty oświetleniowe i skomplikowane detale, takie jak cienie czy odblaski.\n",
    "\n",
    "## Wady NeRF:\n",
    "\n",
    "Wymaga dużej ilości danych: Aby uzyskać dobre rezultaty, NeRF wymaga dużego zestawu danych treningowych, czyli wielu zdjęć danej sceny z różnych perspektyw.\n",
    "\n",
    "Wolne tempo przetwarzania: NeRF nie jest szybki. Generowanie obrazu z modelu NeRF może zająć nawet kilka minut, co na razie wyklucza wykorzystanie tej technologii w czasie rzeczywistym.\n",
    "\n",
    "Złożoność obliczeniowa: NeRF wymaga dużych mocy obliczeniowych i pamięci, co sprawia, że nie jest optymalny dla urządzeń o ograniczonych zasobach, takich jak telefony komórkowe.\n",
    "\n",
    "Trudności ze złożonymi scenami: Przy skomplikowanych scenach z elementami ruchu, takimi jak zmienna pogoda lub przechodnie, NeRF może mieć problemy z dokładnym odwzorowaniem rzeczywistości."
   ],
   "metadata": {
    "collapsed": false
   },
   "id": "918328d69e22f34d"
  },
  {
   "cell_type": "code",
   "execution_count": null,
   "outputs": [],
   "source": [],
   "metadata": {
    "collapsed": false
   },
   "id": "d744308556256ea8"
  }
 ],
 "metadata": {
  "kernelspec": {
   "display_name": "Python 3",
   "language": "python",
   "name": "python3"
  },
  "language_info": {
   "codemirror_mode": {
    "name": "ipython",
    "version": 3
   },
   "file_extension": ".py",
   "mimetype": "text/x-python",
   "name": "python",
   "nbconvert_exporter": "python",
   "pygments_lexer": "ipython3",
   "version": "3.10.13"
  }
 },
 "nbformat": 4,
 "nbformat_minor": 5
}
